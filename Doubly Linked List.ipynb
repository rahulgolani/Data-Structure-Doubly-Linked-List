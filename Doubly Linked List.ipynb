{
 "cells": [
  {
   "cell_type": "markdown",
   "metadata": {},
   "source": [
    "# Introduction"
   ]
  },
  {
   "cell_type": "markdown",
   "metadata": {},
   "source": [
    "<strong>Advantages over singly linked list </strong>\n",
    "\n",
    "1) A DLL can be traversed in both forward and backward direction. \n",
    "\n",
    "2) The delete operation in DLL is more efficient if pointer to the node to be deleted is given. \n",
    "\n",
    "3) We can quickly insert a new node before a given node. \n",
    "\n",
    "In singly linked list, to delete a node, pointer to the previous node is needed. To get this previous node, sometimes the list is traversed. In DLL, we can get the previous node using previous pointer. "
   ]
  },
  {
   "cell_type": "markdown",
   "metadata": {},
   "source": [
    "<strong>Disadvantages over singly linked list </strong>\n",
    "\n",
    "1) Every node of DLL Require extra space for an previous pointer.\n",
    "\n",
    "2) All operations require an extra pointer previous to be maintained. For example, in insertion, we need to modify previous pointers together with next pointers. For example in following functions for insertions at different positions, we need 1 or 2 extra steps to set previous pointer."
   ]
  },
  {
   "cell_type": "markdown",
   "metadata": {},
   "source": [
    "# Insertion"
   ]
  },
  {
   "cell_type": "markdown",
   "metadata": {},
   "source": [
    "Front\n",
    "\n",
    "Before a node\n",
    "\n",
    "After a node\n",
    "\n",
    "End"
   ]
  },
  {
   "cell_type": "code",
   "execution_count": 1,
   "metadata": {},
   "outputs": [
    {
     "name": "stdout",
     "output_type": "stream",
     "text": [
      "Linked List is empty\n",
      "D \n",
      "C D \n",
      "A B C D \n",
      "A B C E D \n",
      "A B C E D F \n",
      "M A B C E D F \n",
      "M\n"
     ]
    }
   ],
   "source": [
    "class Node:\n",
    "    def __init__(self,data):\n",
    "        self.data=data\n",
    "        self.next=None\n",
    "        self.prev=None\n",
    "\n",
    "class LinkedList:\n",
    "\n",
    "    def __init__(self):\n",
    "        self.head =None\n",
    "\n",
    "    def addToFront(self,data):\n",
    "        temp=Node(data)\n",
    "        if self.head is None:\n",
    "            self.head=temp\n",
    "            return\n",
    "        temp.next=self.head\n",
    "        self.head.prev=temp\n",
    "        self.head=temp\n",
    "\n",
    "    def addAfter(self,prev,data):\n",
    "        if prev is None:\n",
    "            print('Node does not exists')\n",
    "            return\n",
    "        temp=Node(data)\n",
    "        temp.prev=prev\n",
    "        temp.next=prev.next\n",
    "        prev.next=temp\n",
    "        if temp.next is not None:\n",
    "            temp.next.prev=temp\n",
    "\n",
    "    def addToEnd(self,data):\n",
    "        temp=Node(data)\n",
    "        if self.head is None:\n",
    "            self.head=temp\n",
    "            return\n",
    "        curr=self.head\n",
    "        while curr.next:\n",
    "            curr=curr.next\n",
    "        curr.next=temp\n",
    "        temp.prev=curr\n",
    "\n",
    "    def addBefore(self,n,data):\n",
    "        if n is None:\n",
    "            print('Node not found')\n",
    "            return\n",
    "        temp=Node(data)\n",
    "        temp.next=n\n",
    "        temp.prev=n.prev\n",
    "        n.prev=temp\n",
    "        if temp.prev is None:\n",
    "            self.head=temp\n",
    "        else:\n",
    "            temp.prev.next=temp\n",
    "\n",
    "    def traverse(self):\n",
    "        if self.head is None:\n",
    "            print('Linked List is empty')\n",
    "            return\n",
    "        temp=self.head\n",
    "        while temp:\n",
    "            print(temp.data,end=\" \")\n",
    "            temp=temp.next\n",
    "        print()\n",
    "\n",
    "llist=LinkedList()\n",
    "llist.traverse()\n",
    "llist.addToFront('D')\n",
    "llist.traverse()\n",
    "llist.addToFront('C')\n",
    "llist.traverse()\n",
    "llist.addToFront('B')\n",
    "llist.addToFront('A')\n",
    "llist.traverse()\n",
    "llist.addAfter(llist.head.next.next,'E')\n",
    "#print(llist.head.next.next.next.next.prev.data)\n",
    "llist.traverse()\n",
    "llist.addToEnd('F')\n",
    "llist.traverse()\n",
    "llist.addBefore(llist.head,'M')\n",
    "llist.traverse()\n",
    "print(llist.head.data)\n",
    "#print(llist.head.next.prev.data)\n"
   ]
  },
  {
   "cell_type": "markdown",
   "metadata": {},
   "source": [
    "# Delete a node in a Doubly Linked List"
   ]
  },
  {
   "cell_type": "markdown",
   "metadata": {},
   "source": [
    "Given the node to be deleted"
   ]
  },
  {
   "cell_type": "code",
   "execution_count": 2,
   "metadata": {},
   "outputs": [
    {
     "name": "stdout",
     "output_type": "stream",
     "text": [
      "1 2 3 4 \n",
      "Node not found\n",
      "1 2 3 4 \n"
     ]
    }
   ],
   "source": [
    "import gc\n",
    "class Node:\n",
    "    def __init__(self,data):\n",
    "        self.data=data\n",
    "        self.next=None\n",
    "        self.prev=None\n",
    "\n",
    "class LinkedList:\n",
    "    def __init__(self):\n",
    "        self.head=None\n",
    "\n",
    "    def push(self,data):\n",
    "        temp=Node(data)\n",
    "        if self.head is None:\n",
    "            self.head=temp\n",
    "            return\n",
    "        temp.next=self.head\n",
    "        self.head.prev=temp\n",
    "        self.head=temp\n",
    "\n",
    "    def traverse(self):\n",
    "        if self.head is None:\n",
    "            print('Linked List is empty')\n",
    "            return\n",
    "        temp=self.head\n",
    "        while temp:\n",
    "            print(temp.data,end=\" \")\n",
    "            temp=temp.next\n",
    "        print()\n",
    "\n",
    "    def delete(self,n):\n",
    "        if n is None:\n",
    "            print('Node not found')\n",
    "            return\n",
    "        if n.next is not None and n.prev is not None:\n",
    "            n.prev.next=n.next\n",
    "            n.next.prev=n.prev\n",
    "        elif n.next is None:\n",
    "            n.prev.next=None\n",
    "        elif n.prev is None:\n",
    "            n.next.prev=None\n",
    "            self.head=n.next\n",
    "        n.next=None\n",
    "        n.prev=None\n",
    "        gc.collect()\n",
    "\n",
    "if __name__ == '__main__':\n",
    "    llist=LinkedList()\n",
    "    llist.push(4)\n",
    "    llist.push(3)\n",
    "    llist.push(2)\n",
    "    llist.push(1)\n",
    "    llist.traverse()\n",
    "    llist.delete(llist.head.next.next.next.next)\n",
    "    llist.traverse()\n"
   ]
  },
  {
   "cell_type": "markdown",
   "metadata": {},
   "source": [
    "# Reverse a Doubly Linked List"
   ]
  },
  {
   "cell_type": "markdown",
   "metadata": {},
   "source": [
    "Simply swap the pointers"
   ]
  },
  {
   "cell_type": "code",
   "execution_count": 3,
   "metadata": {},
   "outputs": [
    {
     "name": "stdout",
     "output_type": "stream",
     "text": [
      "1 2 3 4 \n",
      "4 3 2 1 \n"
     ]
    }
   ],
   "source": [
    "import gc\n",
    "class Node:\n",
    "    def __init__(self,data):\n",
    "        self.data=data\n",
    "        self.next=None\n",
    "        self.prev=None\n",
    "\n",
    "class LinkedList:\n",
    "    def __init__(self):\n",
    "        self.head=None\n",
    "\n",
    "    def push(self,data):\n",
    "        temp=Node(data)\n",
    "        if self.head is None:\n",
    "            self.head=temp\n",
    "            return\n",
    "        temp.next=self.head\n",
    "        self.head.prev=temp\n",
    "        self.head=temp\n",
    "\n",
    "    def traverse(self):\n",
    "        if self.head is None:\n",
    "            print('Linked List is empty')\n",
    "            return\n",
    "        temp=self.head\n",
    "        while temp:\n",
    "            print(temp.data,end=\" \")\n",
    "            temp=temp.next\n",
    "        print()\n",
    "\n",
    "    def reverseList(self):\n",
    "        if self.head is None:\n",
    "            print('Linked List is empty')\n",
    "            return\n",
    "        curr=self.head\n",
    "        while curr:\n",
    "            curr.prev,curr.next=curr.next,curr.prev\n",
    "            if curr.prev==None:\n",
    "                # set the head\n",
    "                self.head=curr\n",
    "            # since the pointers are swapped so traverse forward using prev\n",
    "            curr=curr.prev\n",
    "\n",
    "\n",
    "if __name__ == '__main__':\n",
    "    llist=LinkedList()\n",
    "    llist.push(4)\n",
    "    llist.push(3)\n",
    "    llist.push(2)\n",
    "    llist.push(1)\n",
    "    llist.traverse()\n",
    "    llist.reverseList()\n",
    "    llist.traverse()\n"
   ]
  },
  {
   "cell_type": "markdown",
   "metadata": {},
   "source": [
    "Can also be done by swapping the data, but swapping data is costly in case data is more"
   ]
  },
  {
   "cell_type": "markdown",
   "metadata": {},
   "source": [
    "Approach 2-> Using Stacks, but data is swapped"
   ]
  },
  {
   "cell_type": "code",
   "execution_count": null,
   "metadata": {},
   "outputs": [],
   "source": []
  }
 ],
 "metadata": {
  "kernelspec": {
   "display_name": "Python 3",
   "language": "python",
   "name": "python3"
  },
  "language_info": {
   "codemirror_mode": {
    "name": "ipython",
    "version": 3
   },
   "file_extension": ".py",
   "mimetype": "text/x-python",
   "name": "python",
   "nbconvert_exporter": "python",
   "pygments_lexer": "ipython3",
   "version": "3.7.6"
  }
 },
 "nbformat": 4,
 "nbformat_minor": 4
}
